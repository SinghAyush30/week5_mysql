{
 "cells": [
  {
   "cell_type": "markdown",
   "id": "af956d8d-d605-40a5-8d25-89ec1dce14f5",
   "metadata": {},
   "source": [
    "Ans1) A database is a structured collection of data that is organized and stored in a computer system. It allows us to efficiently store, retrieve, manage, and manipulate data. \n",
    "\n",
    "SQL databases are based on the relational model and use SQL as the standard language for managing and querying data. They are typically used for structured data with well-defined schemas.   \n",
    "Examples of SQL databases include MySQL, PostgreSQL, Oracle Database, Microsoft SQL Server, and SQLite.\n",
    "\n",
    "NoSQL databases are designed to handle large volumes of unstructured, semi-structured, or rapidly changing data. They provide flexible schemas and are suitable for applications requiring high scalability and performance.   \n",
    "Types of NoSQL databases include key-value stores (e.g., Redis), document databases (e.g., MongoDB), columnar databases (e.g., Apache Cassandra), and graph databases (e.g., Neo4j).\n"
   ]
  },
  {
   "cell_type": "markdown",
   "id": "d65f35ef-6ff6-4184-946f-dd0c13c89c75",
   "metadata": {},
   "source": [
    "Ans2) DDL stands for Data Definition Language. It is a subset of SQL (Structured Query Language) that is used to define and manage the structure of a database. DDL statements are used to create, modify, and delete database objects such as tables, indexes, views, and schemas."
   ]
  },
  {
   "cell_type": "markdown",
   "id": "32df20a8-38d0-4e5f-82ef-019a6f037490",
   "metadata": {},
   "source": [
    "i) CREATE: The CREATE statement is used to create new database objects, such as tables, views, indexes, or schemas.   \n",
    "CREATE TABLE pw_students (c1 INT,c2 VARCHAR(50),c3 VARCHAR(50));\n",
    "\n",
    "ii) DROP: The DROP statement is used to remove or delete existing database objects from the database. It permanently deletes the object and all associated data. For example, to delete the \"pw_students\" table created in the previous example, we would use the following DROP    \n",
    "DROP TABLE pw_students;\n",
    "\n",
    "iii)ALTER: The ALTER statement is used to modify the structure of an existing database object. It allows us to add, modify, or delete columns, constraints, or indexes. For example, to add a new column named \"c4\" to the \"pw_students\" table, we would use the ALTER statement as follows:    \n",
    "ALTER TABLE pw_students\n",
    "ADD c4 VARCHAR(100);\n",
    "\n",
    "iv) TRUNCATE: This statement is used to remove all rows from a table, effectively deleting all data within the table while keeping the table structure intact. Unlike the DROP statement, it does not delete the table itself. For example, to remove all data from the \"pw_students\" table, we would use the TRUNCATE statement:   \n",
    "TRUNCATE TABLE pw_students;\n"
   ]
  },
  {
   "cell_type": "markdown",
   "id": "30bf54ee-bc78-43c1-bf03-ee329c995119",
   "metadata": {},
   "source": [
    "Ans3)  DML stands for Data Manipulation Language, and it is a subset of SQL (Structured Query Language) used for managing data within a database.   \n",
    "\n",
    "i) INSERT: The INSERT statement is used to add new rows of data into a table.    \n",
    "INSERT INTO pw_skills (ID, Name, Email)\n",
    "VALUES (101, 'Ayush Singh', 'ayushsingh30march@gmail.com');    \n",
    "     After executing this statement, a new row will be added to the pw_skills table with the written values.\n",
    "\n",
    "ii)UPDATE: The UPDATE statement is used to modify existing data in a table.     \n",
    "UPDATE pw_skills\n",
    "SET Email = 'singhayush@gmail.com'\n",
    "WHERE ID = 101;\n",
    "     \n",
    "iii) DELETE: The DELETE statement is used to remove one or more rows from a table.     \n",
    "DELETE FROM Customers\n",
    "WHERE ID = 101;"
   ]
  },
  {
   "cell_type": "markdown",
   "id": "e81ddcd7-af88-4fb7-87ac-9f6f3408e48f",
   "metadata": {},
   "source": [
    "Ans4) DQL stands for Data Query Language, which is a subset of SQL (Structured Query Language) used for retrieving data from a database.    \n",
    "DQL is primarily focused on the SELECT statement, which allows us to specify the data we want to retrieve and define the conditions that must be met for the data to be included in the result set.     \n",
    "SELECT Email  FROM pw_skills\n",
    "WHERE ID = 101;"
   ]
  },
  {
   "cell_type": "markdown",
   "id": "590206d2-c8f2-4114-aa0c-8cc6a84fb4c9",
   "metadata": {},
   "source": [
    "Ans5) Primary keys and Foreign keys play crucial roles in maintaining the integrity and relationships of data within a relational database, helping ensure data consistency and accuracy.    \n",
    "Primary Key:\n",
    "i) A primary key is a column or a combination of columns in a database table that uniquely identifies each record in that table.    \n",
    "ii) It provides a way to ensure the uniqueness and integrity of the data within the table.   \n",
    "\n",
    "Foreign Key:\n",
    "i) A foreign key is a column or a combination of columns in a database table that refers to the primary key of another table.   \n",
    "ii) It establishes a link between two tables and enforces referential integrity.    \n",
    "iii) The purpose of a foreign key is to maintain the relationships between tables by ensuring that the values in the foreign key column(s) match the values in the primary key column(s) of the referenced table."
   ]
  },
  {
   "cell_type": "markdown",
   "id": "94b8d72c-caa9-4614-9dbb-36abe9f2cc39",
   "metadata": {},
   "source": [
    "Ans6) To connect MySQL to Python, we can use the mysql-connector-python library.   \n",
    "Making sure that we have the mysql-connector-python package installed. We can install it using the following command: pip install mysql-connector-python.    \n",
    "\n",
    "Explanation of the cursor() method:     \n",
    "-The cursor() method creates a cursor object, which allows us to execute SQL statements and fetch data from the result set.    \n",
    "-A cursor acts as a handle for the database operations and allows you to interact with the database using various methods and attributes.\n",
    "\n",
    "Explanation of the execute() method:     \n",
    "-The execute() method is used to execute SQL queries or statements.     \n",
    "-we pass the SQL query as a parameter to the execute() method."
   ]
  },
  {
   "cell_type": "markdown",
   "id": "e5fa1c73-381e-4551-93b7-ab24d22edf9c",
   "metadata": {},
   "source": [
    "Ans7) In SQL, the clauses of a query are typically executed in the following order:    \n",
    "i) FROM      \n",
    "ii) WHERE      \n",
    "iii) GROUP BY      \n",
    "iv) HAVING     \n",
    "v) SELECT      \n",
    "vi) DISTINCT     \n",
    "vii) ORDER BY     \n",
    "viii) LIMIT / OFFSET.\n"
   ]
  },
  {
   "cell_type": "code",
   "execution_count": null,
   "id": "b99809df-24b5-4850-86bc-8b9d5ab0427c",
   "metadata": {},
   "outputs": [],
   "source": []
  }
 ],
 "metadata": {
  "kernelspec": {
   "display_name": "Python 3 (ipykernel)",
   "language": "python",
   "name": "python3"
  },
  "language_info": {
   "codemirror_mode": {
    "name": "ipython",
    "version": 3
   },
   "file_extension": ".py",
   "mimetype": "text/x-python",
   "name": "python",
   "nbconvert_exporter": "python",
   "pygments_lexer": "ipython3",
   "version": "3.10.8"
  }
 },
 "nbformat": 4,
 "nbformat_minor": 5
}
